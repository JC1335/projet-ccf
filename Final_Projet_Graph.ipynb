{
  "nbformat": 4,
  "nbformat_minor": 0,
  "metadata": {
    "colab": {
      "provenance": [],
      "authorship_tag": "ABX9TyN9XJIg0qojvgCUW6GdtoEJ",
      "include_colab_link": true
    },
    "kernelspec": {
      "name": "python3",
      "display_name": "Python 3"
    },
    "language_info": {
      "name": "python"
    }
  },
  "cells": [
    {
      "cell_type": "markdown",
      "metadata": {
        "id": "view-in-github",
        "colab_type": "text"
      },
      "source": [
        "<a href=\"https://colab.research.google.com/github/JC1335/projet-ccf/blob/master/Final_Projet_Graph.ipynb\" target=\"_parent\"><img src=\"https://colab.research.google.com/assets/colab-badge.svg\" alt=\"Open In Colab\"/></a>"
      ]
    },
    {
      "cell_type": "markdown",
      "source": [
        "#1 **Programmation en RDDs (PySpark) - Python**"
      ],
      "metadata": {
        "id": "uNiPDXMC376N"
      }
    },
    {
      "cell_type": "code",
      "execution_count": 3,
      "metadata": {
        "id": "5cAqROqr30gL",
        "colab": {
          "base_uri": "https://localhost:8080/"
        },
        "outputId": "39e27be1-8f6e-4dee-bdb3-1169fd4ad488"
      },
      "outputs": [
        {
          "output_type": "stream",
          "name": "stdout",
          "text": [
            "📎 Traitement de G1 (data/G1_1k.csv)...\n",
            "❌ Erreur avec G1 : [PATH_NOT_FOUND] Path does not exist: file:/content/data/G1_1k.csv.\n",
            "----------------------------------------\n",
            "📎 Traitement de G2 (data/G2_5k.csv)...\n",
            "❌ Erreur avec G2 : [PATH_NOT_FOUND] Path does not exist: file:/content/data/G2_5k.csv.\n",
            "----------------------------------------\n",
            "📎 Traitement de G3 (data/G3_8k.csv)...\n",
            "❌ Erreur avec G3 : [PATH_NOT_FOUND] Path does not exist: file:/content/data/G3_8k.csv.\n",
            "----------------------------------------\n",
            "📎 Traitement de G4 (data/G4_10k.csv)...\n",
            "❌ Erreur avec G4 : [PATH_NOT_FOUND] Path does not exist: file:/content/data/G4_10k.csv.\n",
            "----------------------------------------\n",
            "✅ Résumé des performances (RDD) :\n",
            "Empty DataFrame\n",
            "Columns: [Graphe, Nœuds, Arêtes, Itérations, Temps (s)]\n",
            "Index: []\n"
          ]
        }
      ],
      "source": [
        "import time\n",
        "import pandas as pd\n",
        "from pyspark.sql import SparkSession\n",
        "from pyspark.sql.types import StructType, StructField, IntegerType\n",
        "from pyspark import SparkConf, SparkContext\n",
        "\n",
        "# Initialisation de SparkSession et du SparkContext\n",
        "spark = SparkSession.builder.appName(\"CCF Correct RDD\").getOrCreate()\n",
        "sc = spark.sparkContext\n",
        "\n",
        "# Accumulateur pour suivre les nouveaux couples (comme décrit dans le papier)\n",
        "new_pairs_counter = sc.accumulator(0)\n",
        "\n",
        "def ccf_correct_implementation(edges_rdd, max_iters=20):\n",
        "    \"\"\"\n",
        "    Implémentation correcte de l'algorithme CCF (Connected Component Finder)\n",
        "    en utilisant les RDD PySpark, suivant la logique du papier académique.\n",
        "    \"\"\"\n",
        "    global new_pairs_counter\n",
        "\n",
        "    # Étape 1 : Initialiser chaque nœud avec sa propre étiquette de composante\n",
        "    nodes = edges_rdd.flatMap(lambda edge: [edge[0], edge[1]]).distinct()\n",
        "    node_component_rdd = nodes.map(lambda node: (node, node))  # (nœud, id_de_composante)\n",
        "\n",
        "    # Étape 2 : Créer la liste d’adjacence (bidirectionnelle)\n",
        "    neighbors_rdd = edges_rdd.flatMap(lambda x: [(x[0], x[1]), (x[1], x[0])])\n",
        "\n",
        "    iteration = 0\n",
        "    start_time = time.time()\n",
        "\n",
        "    # Boucle principale : on propage les composantes jusqu’à convergence ou itérations max\n",
        "    while iteration < max_iters:\n",
        "        iteration += 1\n",
        "        print(f\"🔁 Démarrage de l'itération {iteration}...\")\n",
        "\n",
        "        # Réinitialisation de l'accumulateur pour la nouvelle itération\n",
        "        new_pairs_counter.value = 0\n",
        "\n",
        "        # 1️ Joindre chaque nœud avec la composante de ses voisins\n",
        "        joined_rdd = node_component_rdd.join(neighbors_rdd).map(\n",
        "            lambda x: (x[1][1], x[1][0])  # (voisin, composante du nœud)\n",
        "        )\n",
        "\n",
        "        # 2️ Grouper toutes les composantes possibles pour chaque nœud\n",
        "        input_for_reducer = joined_rdd.union(node_component_rdd).groupByKey()\n",
        "\n",
        "        # 3️ Phase de réduction (comme décrite dans la Figure 2 du papier)\n",
        "        def ccf_iterate_reducer(key_values):\n",
        "            key, values_iter = key_values\n",
        "            values = list(values_iter)\n",
        "            min_val = min(values)\n",
        "\n",
        "            if min_val < key:\n",
        "                # Ce nœud peut adopter une composante plus petite : on propage\n",
        "                yield (key, min_val)\n",
        "                for val in values:\n",
        "                    if val != min_val:\n",
        "                        new_pairs_counter.add(1)\n",
        "                        yield (val, min_val)\n",
        "            else:\n",
        "                # Sinon, il garde sa propre étiquette\n",
        "                yield (key, key)\n",
        "\n",
        "        # Application du reducer et dédoublonnage\n",
        "        ccf_iterate_output = input_for_reducer.flatMap(ccf_iterate_reducer)\n",
        "        dedup_output = ccf_iterate_output.distinct()\n",
        "\n",
        "        # Mise à jour de la RDD des composantes\n",
        "        node_component_rdd = dedup_output\n",
        "\n",
        "        # Action obligatoire pour forcer l’évaluation du compteur (Spark est paresseux)\n",
        "        node_component_rdd.count()\n",
        "\n",
        "        # Si aucune propagation n’a eu lieu, on considère qu’on a convergé\n",
        "        if new_pairs_counter.value == 0:\n",
        "            print(f\"✅ Convergence atteinte en {iteration} itérations.\")\n",
        "            break\n",
        "\n",
        "    exec_time = time.time() - start_time\n",
        "    return node_component_rdd, iteration, exec_time\n",
        "\n",
        "# Chargement des fichiers et exécution du CCF pour chacun ---\n",
        "schema = StructType([\n",
        "    StructField(\"source\", IntegerType(), True),\n",
        "    StructField(\"target\", IntegerType(), True)\n",
        "])\n",
        "\n",
        "# Liste des fichiers à analyser\n",
        "files = [\n",
        "    (\"G1_1k.csv\", \"G1\"),\n",
        "    (\"G2_5k.csv\", \"G2\"),\n",
        "    (\"G3_8k.csv\", \"G3\"),\n",
        "    (\"G4_10k.csv\", \"G4\")\n",
        "]\n",
        "\n",
        "# Liste pour stocker les résultats\n",
        "results = []\n",
        "\n",
        "for filename, label in files:\n",
        "    filepath = f\"data/{filename}\"  # Assure-toi que le fichier est bien dans le dossier \"data\"\n",
        "    print(f\"📎 Traitement de {label} ({filepath})...\")\n",
        "\n",
        "    try:\n",
        "        # Chargement du fichier CSV en DataFrame structuré\n",
        "        df = spark.read.csv(filepath, header=True, schema=schema)\n",
        "\n",
        "        # Conversion en RDD de paires (source, target)\n",
        "        edges_rdd = df.rdd.map(lambda row: (row['source'], row['target']))\n",
        "\n",
        "        # Lancement de l'algorithme CCF\n",
        "        components, num_iters, exec_time = ccf_correct_implementation(edges_rdd, max_iters=20)\n",
        "\n",
        "        # 📈 Statistiques du graphe\n",
        "        nb_nodes = edges_rdd.flatMap(lambda edge: [edge[0], edge[1]]).distinct().count()\n",
        "        nb_edges = edges_rdd.count()\n",
        "\n",
        "        print(f\"📊 Données du graphe: {nb_nodes} nœuds, {nb_edges} arêtes\")\n",
        "        print(f\"🔁 Itérations : {num_iters}\")\n",
        "        print(f\"⏱️ Temps : {round(exec_time, 3)} secondes\")\n",
        "        print(\"-\" * 40)\n",
        "\n",
        "        # Ajout aux résultats\n",
        "        results.append((label, nb_nodes, nb_edges, num_iters, round(exec_time, 3)))\n",
        "\n",
        "    except Exception as e:\n",
        "        print(f\"❌ Erreur avec {label} : {e}\")\n",
        "        print(\"-\" * 40)\n",
        "\n",
        "# Affichage final dans un tableau Pandas\n",
        "result_rdd_df = pd.DataFrame(\n",
        "    results,\n",
        "    columns=[\"Graphe\", \"Nœuds\", \"Arêtes\", \"Itérations\", \"Temps (s)\"]\n",
        ")\n",
        "\n",
        "print(\"✅ Résumé des performances (RDD) :\")\n",
        "print(result_rdd_df)\n"
      ]
    },
    {
      "cell_type": "markdown",
      "source": [
        "# **2 \tImplémentation CCF avec DataFrames _ Python**"
      ],
      "metadata": {
        "id": "nwAnmF7B4PFM"
      }
    },
    {
      "cell_type": "code",
      "source": [],
      "metadata": {
        "colab": {
          "base_uri": "https://localhost:8080/"
        },
        "id": "Bt0YUWXU6K9Y",
        "outputId": "9e65b3a8-dc10-4c17-a2f1-74c70794e793"
      },
      "execution_count": null,
      "outputs": [
        {
          "output_type": "stream",
          "name": "stdout",
          "text": [
            "📎 Traitement de G1 (data/G1_1k.csv)...\n",
            "❌ Erreur avec G1 : [PATH_NOT_FOUND] Path does not exist: file:/content/data/G1_1k.csv.\n",
            "----------------------------------------\n",
            "📎 Traitement de G2 (data/G2_5k.csv)...\n",
            "❌ Erreur avec G2 : [PATH_NOT_FOUND] Path does not exist: file:/content/data/G2_5k.csv.\n",
            "----------------------------------------\n",
            "📎 Traitement de G3 (data/G3_8k.csv)...\n",
            "❌ Erreur avec G3 : [PATH_NOT_FOUND] Path does not exist: file:/content/data/G3_8k.csv.\n",
            "----------------------------------------\n",
            "📎 Traitement de G4 (data/G4_10k.csv)...\n",
            "❌ Erreur avec G4 : [PATH_NOT_FOUND] Path does not exist: file:/content/data/G4_10k.csv.\n",
            "----------------------------------------\n",
            "✅ Résumé des performances (DataFrame) :\n",
            "Empty DataFrame\n",
            "Columns: [Graphe, Nœuds, Arêtes, Itérations, Temps (s)]\n",
            "Index: []\n"
          ]
        }
      ]
    }
  ]
}